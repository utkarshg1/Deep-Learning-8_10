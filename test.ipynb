{
 "cells": [
  {
   "cell_type": "markdown",
   "metadata": {},
   "source": [
    "## Test file importing libraries"
   ]
  },
  {
   "cell_type": "code",
   "execution_count": 1,
   "metadata": {},
   "outputs": [],
   "source": [
    "import tensorflow"
   ]
  },
  {
   "cell_type": "code",
   "execution_count": 2,
   "metadata": {},
   "outputs": [],
   "source": [
    "import keras"
   ]
  },
  {
   "cell_type": "code",
   "execution_count": 3,
   "metadata": {},
   "outputs": [],
   "source": [
    "import nltk"
   ]
  },
  {
   "cell_type": "code",
   "execution_count": 4,
   "metadata": {},
   "outputs": [],
   "source": [
    "import cv2"
   ]
  },
  {
   "cell_type": "code",
   "execution_count": 1,
   "metadata": {},
   "outputs": [],
   "source": [
    "from sklearn.datasets import make_regression"
   ]
  },
  {
   "cell_type": "code",
   "execution_count": 2,
   "metadata": {},
   "outputs": [],
   "source": [
    "X, Y = make_regression(n_samples=1000, n_features=30, n_informative=15, noise=5, random_state=42)"
   ]
  },
  {
   "cell_type": "code",
   "execution_count": 5,
   "metadata": {},
   "outputs": [
    {
     "data": {
      "text/plain": [
       "array([[ 1.75192081, -1.70494842, -0.0568074 , ...,  1.48964784,\n",
       "         0.02404777,  0.09165008],\n",
       "       [-0.57601169,  0.53323987, -0.43418846, ..., -1.28245074,\n",
       "        -1.09727293,  1.7311969 ],\n",
       "       [ 1.50999432,  0.86362991,  0.64538467, ..., -2.67016793,\n",
       "        -0.13722518,  0.93290166],\n",
       "       ...,\n",
       "       [-0.34540695,  0.42934967,  0.61344327, ...,  0.91070097,\n",
       "         0.98732574, -0.36350024],\n",
       "       [-0.45903167,  1.27468385,  0.50929532, ...,  1.19047499,\n",
       "        -0.16681474, -0.97802302],\n",
       "       [ 0.0509137 , -0.60732305, -0.70436032, ..., -0.95110805,\n",
       "        -0.37256228, -0.65905969]])"
      ]
     },
     "execution_count": 5,
     "metadata": {},
     "output_type": "execute_result"
    }
   ],
   "source": [
    "X"
   ]
  },
  {
   "cell_type": "code",
   "execution_count": 6,
   "metadata": {},
   "outputs": [
    {
     "data": {
      "text/plain": [
       "['x1',\n",
       " 'x2',\n",
       " 'x3',\n",
       " 'x4',\n",
       " 'x5',\n",
       " 'x6',\n",
       " 'x7',\n",
       " 'x8',\n",
       " 'x9',\n",
       " 'x10',\n",
       " 'x11',\n",
       " 'x12',\n",
       " 'x13',\n",
       " 'x14',\n",
       " 'x15',\n",
       " 'x16',\n",
       " 'x17',\n",
       " 'x18',\n",
       " 'x19',\n",
       " 'x20',\n",
       " 'x21',\n",
       " 'x22',\n",
       " 'x23',\n",
       " 'x24',\n",
       " 'x25',\n",
       " 'x26',\n",
       " 'x27',\n",
       " 'x28',\n",
       " 'x29',\n",
       " 'x30']"
      ]
     },
     "execution_count": 6,
     "metadata": {},
     "output_type": "execute_result"
    }
   ],
   "source": [
    "cols = ['x'+str(i+1) for i in range(30)]\n",
    "cols"
   ]
  },
  {
   "cell_type": "code",
   "execution_count": 7,
   "metadata": {},
   "outputs": [],
   "source": [
    "import pandas as pd\n",
    "X = pd.DataFrame(X, columns=cols)"
   ]
  },
  {
   "cell_type": "code",
   "execution_count": 8,
   "metadata": {},
   "outputs": [
    {
     "data": {
      "text/html": [
       "<div>\n",
       "<style scoped>\n",
       "    .dataframe tbody tr th:only-of-type {\n",
       "        vertical-align: middle;\n",
       "    }\n",
       "\n",
       "    .dataframe tbody tr th {\n",
       "        vertical-align: top;\n",
       "    }\n",
       "\n",
       "    .dataframe thead th {\n",
       "        text-align: right;\n",
       "    }\n",
       "</style>\n",
       "<table border=\"1\" class=\"dataframe\">\n",
       "  <thead>\n",
       "    <tr style=\"text-align: right;\">\n",
       "      <th></th>\n",
       "      <th>x1</th>\n",
       "      <th>x2</th>\n",
       "      <th>x3</th>\n",
       "      <th>x4</th>\n",
       "      <th>x5</th>\n",
       "      <th>x6</th>\n",
       "      <th>x7</th>\n",
       "      <th>x8</th>\n",
       "      <th>x9</th>\n",
       "      <th>x10</th>\n",
       "      <th>...</th>\n",
       "      <th>x21</th>\n",
       "      <th>x22</th>\n",
       "      <th>x23</th>\n",
       "      <th>x24</th>\n",
       "      <th>x25</th>\n",
       "      <th>x26</th>\n",
       "      <th>x27</th>\n",
       "      <th>x28</th>\n",
       "      <th>x29</th>\n",
       "      <th>x30</th>\n",
       "    </tr>\n",
       "  </thead>\n",
       "  <tbody>\n",
       "    <tr>\n",
       "      <th>0</th>\n",
       "      <td>1.751921</td>\n",
       "      <td>-1.704948</td>\n",
       "      <td>-0.056807</td>\n",
       "      <td>1.668311</td>\n",
       "      <td>-0.236070</td>\n",
       "      <td>1.347297</td>\n",
       "      <td>-1.397489</td>\n",
       "      <td>-0.552017</td>\n",
       "      <td>-1.210349</td>\n",
       "      <td>0.742275</td>\n",
       "      <td>...</td>\n",
       "      <td>-1.201374</td>\n",
       "      <td>-0.072562</td>\n",
       "      <td>0.478504</td>\n",
       "      <td>1.149418</td>\n",
       "      <td>0.634498</td>\n",
       "      <td>-1.998622</td>\n",
       "      <td>0.544257</td>\n",
       "      <td>1.489648</td>\n",
       "      <td>0.024048</td>\n",
       "      <td>0.091650</td>\n",
       "    </tr>\n",
       "    <tr>\n",
       "      <th>1</th>\n",
       "      <td>-0.576012</td>\n",
       "      <td>0.533240</td>\n",
       "      <td>-0.434188</td>\n",
       "      <td>0.676248</td>\n",
       "      <td>0.096206</td>\n",
       "      <td>-2.381292</td>\n",
       "      <td>1.098382</td>\n",
       "      <td>-0.283747</td>\n",
       "      <td>-1.369436</td>\n",
       "      <td>-0.056324</td>\n",
       "      <td>...</td>\n",
       "      <td>-0.930650</td>\n",
       "      <td>0.182849</td>\n",
       "      <td>-0.033790</td>\n",
       "      <td>-0.500108</td>\n",
       "      <td>1.269046</td>\n",
       "      <td>-0.520215</td>\n",
       "      <td>1.190402</td>\n",
       "      <td>-1.282451</td>\n",
       "      <td>-1.097273</td>\n",
       "      <td>1.731197</td>\n",
       "    </tr>\n",
       "    <tr>\n",
       "      <th>2</th>\n",
       "      <td>1.509994</td>\n",
       "      <td>0.863630</td>\n",
       "      <td>0.645385</td>\n",
       "      <td>1.947891</td>\n",
       "      <td>-0.241097</td>\n",
       "      <td>0.585169</td>\n",
       "      <td>0.696042</td>\n",
       "      <td>1.813464</td>\n",
       "      <td>1.587693</td>\n",
       "      <td>0.441104</td>\n",
       "      <td>...</td>\n",
       "      <td>0.196453</td>\n",
       "      <td>0.264836</td>\n",
       "      <td>0.069860</td>\n",
       "      <td>-0.384220</td>\n",
       "      <td>0.526764</td>\n",
       "      <td>1.544797</td>\n",
       "      <td>1.138639</td>\n",
       "      <td>-2.670168</td>\n",
       "      <td>-0.137225</td>\n",
       "      <td>0.932902</td>\n",
       "    </tr>\n",
       "    <tr>\n",
       "      <th>3</th>\n",
       "      <td>0.386809</td>\n",
       "      <td>1.011463</td>\n",
       "      <td>-0.742484</td>\n",
       "      <td>-0.818429</td>\n",
       "      <td>0.625508</td>\n",
       "      <td>2.012270</td>\n",
       "      <td>-0.351414</td>\n",
       "      <td>1.481663</td>\n",
       "      <td>1.954157</td>\n",
       "      <td>0.885231</td>\n",
       "      <td>...</td>\n",
       "      <td>0.123548</td>\n",
       "      <td>0.023903</td>\n",
       "      <td>1.532368</td>\n",
       "      <td>-0.505747</td>\n",
       "      <td>1.962587</td>\n",
       "      <td>1.563413</td>\n",
       "      <td>0.499864</td>\n",
       "      <td>-1.399306</td>\n",
       "      <td>1.023710</td>\n",
       "      <td>1.045088</td>\n",
       "    </tr>\n",
       "    <tr>\n",
       "      <th>4</th>\n",
       "      <td>0.404748</td>\n",
       "      <td>1.081407</td>\n",
       "      <td>-1.068204</td>\n",
       "      <td>-1.524359</td>\n",
       "      <td>0.484577</td>\n",
       "      <td>-0.171825</td>\n",
       "      <td>0.171654</td>\n",
       "      <td>-0.352964</td>\n",
       "      <td>3.611350</td>\n",
       "      <td>1.042128</td>\n",
       "      <td>...</td>\n",
       "      <td>-0.542116</td>\n",
       "      <td>0.348199</td>\n",
       "      <td>1.695610</td>\n",
       "      <td>1.198574</td>\n",
       "      <td>-0.625166</td>\n",
       "      <td>1.854024</td>\n",
       "      <td>-0.289822</td>\n",
       "      <td>0.570892</td>\n",
       "      <td>-0.459023</td>\n",
       "      <td>0.550304</td>\n",
       "    </tr>\n",
       "  </tbody>\n",
       "</table>\n",
       "<p>5 rows × 30 columns</p>\n",
       "</div>"
      ],
      "text/plain": [
       "         x1        x2        x3        x4        x5        x6        x7  \\\n",
       "0  1.751921 -1.704948 -0.056807  1.668311 -0.236070  1.347297 -1.397489   \n",
       "1 -0.576012  0.533240 -0.434188  0.676248  0.096206 -2.381292  1.098382   \n",
       "2  1.509994  0.863630  0.645385  1.947891 -0.241097  0.585169  0.696042   \n",
       "3  0.386809  1.011463 -0.742484 -0.818429  0.625508  2.012270 -0.351414   \n",
       "4  0.404748  1.081407 -1.068204 -1.524359  0.484577 -0.171825  0.171654   \n",
       "\n",
       "         x8        x9       x10  ...       x21       x22       x23       x24  \\\n",
       "0 -0.552017 -1.210349  0.742275  ... -1.201374 -0.072562  0.478504  1.149418   \n",
       "1 -0.283747 -1.369436 -0.056324  ... -0.930650  0.182849 -0.033790 -0.500108   \n",
       "2  1.813464  1.587693  0.441104  ...  0.196453  0.264836  0.069860 -0.384220   \n",
       "3  1.481663  1.954157  0.885231  ...  0.123548  0.023903  1.532368 -0.505747   \n",
       "4 -0.352964  3.611350  1.042128  ... -0.542116  0.348199  1.695610  1.198574   \n",
       "\n",
       "        x25       x26       x27       x28       x29       x30  \n",
       "0  0.634498 -1.998622  0.544257  1.489648  0.024048  0.091650  \n",
       "1  1.269046 -0.520215  1.190402 -1.282451 -1.097273  1.731197  \n",
       "2  0.526764  1.544797  1.138639 -2.670168 -0.137225  0.932902  \n",
       "3  1.962587  1.563413  0.499864 -1.399306  1.023710  1.045088  \n",
       "4 -0.625166  1.854024 -0.289822  0.570892 -0.459023  0.550304  \n",
       "\n",
       "[5 rows x 30 columns]"
      ]
     },
     "execution_count": 8,
     "metadata": {},
     "output_type": "execute_result"
    }
   ],
   "source": [
    "X.head()"
   ]
  },
  {
   "cell_type": "code",
   "execution_count": null,
   "metadata": {},
   "outputs": [],
   "source": []
  }
 ],
 "metadata": {
  "kernelspec": {
   "display_name": "venv",
   "language": "python",
   "name": "python3"
  },
  "language_info": {
   "codemirror_mode": {
    "name": "ipython",
    "version": 3
   },
   "file_extension": ".py",
   "mimetype": "text/x-python",
   "name": "python",
   "nbconvert_exporter": "python",
   "pygments_lexer": "ipython3",
   "version": "3.11.6"
  }
 },
 "nbformat": 4,
 "nbformat_minor": 2
}
